{
  "cells": [
    {
      "cell_type": "markdown",
      "metadata": {
        "id": "jMaElZY75wd3"
      },
      "source": [
        "---\n",
        "# Welcome to CE880\n",
        "### This is your week-6 : Problem notebook\n",
        "\n",
        "For this problem set, we'll be using the Jupyter notebook and please upload this notebook to [Google Colab](https://colab.research.google.com/). "
      ]
    },
    {
      "cell_type": "code",
      "execution_count": 1,
      "metadata": {
        "id": "ZxsKsPZw5wd5"
      },
      "outputs": [],
      "source": [
        "# install sklearn package if you are using local computer and if you are using Google Coalb then skip this step\n",
        "#!pip install -U scikit-learn\n",
        "import sys\n",
        "import warnings\n",
        "\n",
        "if not sys.warnoptions:\n",
        "    warnings.simplefilter(\"ignore\")"
      ]
    },
    {
      "cell_type": "markdown",
      "metadata": {
        "id": "rEdP-qbV5wd5"
      },
      "source": [
        "---\n",
        "## Question 1: \n",
        "\n",
        "#### Student’s t-test\n",
        "Tests whether the means of two independent samples are significantly different and return p-value. Please consider $\\alpha = 0.05$ \n",
        "\n",
        "Assumptions\n",
        "\n",
        "* Observations in each sample are independent and identically distributed (iid).\n",
        "* Observations in each sample are normally distributed.\n",
        "* Observations in each sample have the same variance.\n",
        "\n",
        "Interpretation\n",
        "\n",
        "* H0: the means of the samples are equal.\n",
        "* H1: the means of the samples are unequal."
      ]
    },
    {
      "cell_type": "code",
      "execution_count": 12,
      "metadata": {
        "deletable": false,
        "nbgrader": {
          "cell_type": "code",
          "checksum": "dabe3be1af30db5c23ccf124213eb30e",
          "grade": false,
          "grade_id": "my_ttest_ans",
          "locked": false,
          "schema_version": 3,
          "solution": true,
          "task": false
        },
        "id": "edyPEHX35wd6"
      },
      "outputs": [],
      "source": [
        "from scipy.stats import ttest_ind\n",
        "data1 = [0.873, 2.817, 0.121, -0.945, -0.055, -1.436, 0.360, -1.478, -1.637, -1.869]\n",
        "data2 = [1.142, -0.432, -0.938, -0.729, -0.846, -0.157, 0.500, 1.183, -1.075, -0.169]\n",
        "\n",
        "def my_ttest(data1, data2):\n",
        "    \"\"\"Write a code to tests whether the means of two independent samples are significantly\n",
        "    different and return p-value. Please consider 𝛼 = 0.05  \"\"\"\n",
        "    # YOUR CODE HERE\n",
        "    pval = ttest_ind(data1, data2)\n",
        "    if pval[1] > 0.05:\n",
        "      print('Null Hypothesis accepted, the two datasets are significantly different')\n",
        "    else:\n",
        "      print('Null Hypothesis rejected, the two datasets are not significantly different')\n",
        "    return pval[1]\n",
        "    raise NotImplementedError()"
      ]
    },
    {
      "cell_type": "code",
      "execution_count": 13,
      "metadata": {
        "deletable": false,
        "editable": false,
        "nbgrader": {
          "cell_type": "code",
          "checksum": "20a6d562ecffd1e2c44b4b4591e87937",
          "grade": true,
          "grade_id": "my_ttest_test",
          "locked": true,
          "points": 2,
          "schema_version": 3,
          "solution": false,
          "task": false
        },
        "colab": {
          "base_uri": "https://localhost:8080/"
        },
        "id": "fbk3iWeV5wd6",
        "outputId": "b6bb018d-7a05-4691-ae37-1bd3b17c2843"
      },
      "outputs": [
        {
          "output_type": "stream",
          "name": "stdout",
          "text": [
            "Null Hypothesis accepted, the two datasets are significantly different\n"
          ]
        }
      ],
      "source": [
        "# Check you solution by running this cell\n",
        "import math\n",
        "assert math.isclose(my_ttest(data1, data2), 0.748, rel_tol = 0.05)"
      ]
    },
    {
      "cell_type": "markdown",
      "metadata": {
        "id": "RIl0YJlB5wd6"
      },
      "source": [
        "---\n",
        "## Question 2: \n",
        "\n",
        "#### Paired Student’s t-test\n",
        "Tests whether the means of two paired samples are significantly different. Please consider $\\alpha = 0.05$ \n",
        "\n",
        "Assumptions\n",
        "\n",
        "* Observations in each sample are independent and identically distributed (iid).\n",
        "* Observations in each sample are normally distributed.\n",
        "* Observations in each sample have the same variance.\n",
        "* Observations across each sample are paired.\n",
        "\n",
        "Interpretation\n",
        "\n",
        "* H0: the means of the samples are equal.\n",
        "* H1: the means of the samples are unequal."
      ]
    },
    {
      "cell_type": "code",
      "execution_count": 14,
      "metadata": {
        "deletable": false,
        "nbgrader": {
          "cell_type": "code",
          "checksum": "8250fb8556f0348ee2fe92fd9d303345",
          "grade": false,
          "grade_id": "my_pairedttest_ans",
          "locked": false,
          "schema_version": 3,
          "solution": true,
          "task": false
        },
        "id": "8pTyvnO-5wd6"
      },
      "outputs": [],
      "source": [
        "# Example of the Paired Student's t-test\n",
        "from scipy.stats import ttest_rel\n",
        "data1 = [0.873, 2.817, 0.121, -0.945, -0.055, -1.436, 0.360, -1.478, -1.637, -1.869]\n",
        "data2 = [1.142, -0.432, -0.938, -0.729, -0.846, -0.157, 0.500, 1.183, -1.075, -0.169]\n",
        "\n",
        "\n",
        "def my_pairedttest(data1, data2):\n",
        "    \"\"\"Write code to tests whether the means of two paired samples are \n",
        "    significantly different. Please consider 𝛼=0.05 \"\"\"\n",
        "    # YOUR CODE HERE\n",
        "    pval = ttest_rel(data1, data2)\n",
        "    if pval[1] > 0.05:\n",
        "      print('Null Hypothesis accepted, the two datasets are significantly different')\n",
        "    else:\n",
        "      print('Null Hypothesis rejected, the two datasets are not significantly different')\n",
        "    return pval[1]\n",
        "    raise NotImplementedError()"
      ]
    },
    {
      "cell_type": "code",
      "execution_count": 15,
      "metadata": {
        "deletable": false,
        "editable": false,
        "nbgrader": {
          "cell_type": "code",
          "checksum": "e142d479c640e86cdaf7b6f6aa2d5ef7",
          "grade": true,
          "grade_id": "my_pairedttest_test",
          "locked": true,
          "points": 2,
          "schema_version": 3,
          "solution": false,
          "task": false
        },
        "colab": {
          "base_uri": "https://localhost:8080/"
        },
        "id": "xOUzp7IC5wd7",
        "outputId": "bf94a761-26e3-4f2e-b52f-6bb35cb18e33"
      },
      "outputs": [
        {
          "output_type": "stream",
          "name": "stdout",
          "text": [
            "Null Hypothesis accepted, the two datasets are significantly different\n"
          ]
        }
      ],
      "source": [
        "# Check you solution by running this cell\n",
        "import math\n",
        "assert math.isclose(my_pairedttest(data1, data2), 0.746, rel_tol = 0.05)"
      ]
    },
    {
      "cell_type": "markdown",
      "metadata": {
        "id": "YFEFAFmB5wd7"
      },
      "source": [
        "---\n",
        "## Question 3: \n",
        "\n",
        "#### Shapiro-Wilk Test\n",
        "Tests whether a data sample has a Gaussian distribution.\n",
        "\n",
        "Assumptions\n",
        "\n",
        "* Observations in each sample are independent and identically distributed (iid).\n",
        "\n",
        "Interpretation\n",
        "\n",
        "* H0: the sample has a Gaussian distribution.\n",
        "* H1: the sample does not have a Gaussian distribution."
      ]
    },
    {
      "cell_type": "code",
      "execution_count": 17,
      "metadata": {
        "deletable": false,
        "nbgrader": {
          "cell_type": "code",
          "checksum": "46e413b53628a4d7763ce8b467327a5c",
          "grade": false,
          "grade_id": "my_normalityttest_ans",
          "locked": false,
          "schema_version": 3,
          "solution": true,
          "task": false
        },
        "colab": {
          "base_uri": "https://localhost:8080/"
        },
        "id": "ycIT4V095wd7",
        "outputId": "73b284f3-c2b9-44a1-e820-f899d84ea9bc"
      },
      "outputs": [
        {
          "output_type": "stream",
          "name": "stdout",
          "text": [
            "Null Hypothesis accepted, the data is normally distributed\n"
          ]
        },
        {
          "output_type": "execute_result",
          "data": {
            "text/plain": [
              "0.1934097558259964"
            ]
          },
          "metadata": {},
          "execution_count": 17
        }
      ],
      "source": [
        "from scipy.stats import shapiro\n",
        "data = [0.873, 2.817, 0.121, -0.945, -0.055, -1.436, 0.360, -1.478, -1.637, -1.869]\n",
        "\n",
        "def my_normalityttest(data):\n",
        "    \"\"\"Write code to to check the normality of the data. In other words, \n",
        "    you are checking if the data is normally distributed and return p value. \n",
        "    Hint: Please see what is shapiro test and how you can use it\n",
        "    https://docs.scipy.org/doc/scipy/reference/generated/scipy.stats.shapiro.html\"\"\"\n",
        "    # YOUR CODE HERE\n",
        "    pval = shapiro(data)\n",
        "    if pval[1] > 0.05:\n",
        "      print('Null Hypothesis accepted, the data is normally distributed')\n",
        "    else:\n",
        "      print('Null Hypothesis rejected, the data is not normally distributed')\n",
        "    return pval[1]\n",
        "    raise NotImplementedError()\n",
        "\n",
        "# my_normalityttest(data)"
      ]
    },
    {
      "cell_type": "code",
      "execution_count": 18,
      "metadata": {
        "deletable": false,
        "editable": false,
        "nbgrader": {
          "cell_type": "code",
          "checksum": "ddf4ce4217df5678cc4c38ffb9623a47",
          "grade": true,
          "grade_id": "my_normalityttest_test",
          "locked": true,
          "points": 2,
          "schema_version": 3,
          "solution": false,
          "task": false
        },
        "colab": {
          "base_uri": "https://localhost:8080/"
        },
        "id": "l924zUI95wd7",
        "outputId": "60f6a61d-0370-4ca4-a70a-b8d968f3a83f"
      },
      "outputs": [
        {
          "output_type": "stream",
          "name": "stdout",
          "text": [
            "Null Hypothesis accepted, the data is normally distributed\n"
          ]
        }
      ],
      "source": [
        "# Check you solution by running this cell\n",
        "import math\n",
        "assert math.isclose(my_normalityttest(data), 0.193, rel_tol = 0.05)"
      ]
    },
    {
      "cell_type": "code",
      "execution_count": null,
      "metadata": {
        "id": "t3hTn-vD5wd7"
      },
      "outputs": [],
      "source": []
    }
  ],
  "metadata": {
    "kernelspec": {
      "display_name": "Python 3",
      "language": "python",
      "name": "python3"
    },
    "language_info": {
      "codemirror_mode": {
        "name": "ipython",
        "version": 3
      },
      "file_extension": ".py",
      "mimetype": "text/x-python",
      "name": "python",
      "nbconvert_exporter": "python",
      "pygments_lexer": "ipython3",
      "version": "3.7.10"
    },
    "colab": {
      "provenance": []
    }
  },
  "nbformat": 4,
  "nbformat_minor": 0
}
