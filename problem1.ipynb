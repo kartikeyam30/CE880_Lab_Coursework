{
 "cells": [
  {
   "cell_type": "markdown",
   "metadata": {
    "id": "SZ0TL1q3_ZuB"
   },
   "source": [
    "---\n",
    "# Welcome to CE880\n",
    "### This is your week-10 : Problem notebook\n",
    "\n",
    "For this problem set, we'll be using the Jupyter notebook and please upload this notebook to [Google Colab](https://colab.research.google.com/). \n",
    "\n",
    "Paris Housing is a set of data created from imaginary data of house prices in an urban environment. \n",
    "https://github.com/sagihaider/CE880_2021/blob/main/Data/ParisHousingClass.csv \n",
    "\n",
    "All attributes are numeric variables and they are listed bellow:\n",
    "* squareMeters\n",
    "* numberOfRooms\n",
    "* hasYard\n",
    "* hasPool\n",
    "* floors - number of floors\n",
    "* cityCode - zip code\n",
    "* cityPartRange - the higher the range, the more exclusive the neighbourhood is\n",
    "* numPrevOwners - number of prevoious owners\n",
    "* made - year\n",
    "* isNewBuilt\n",
    "* hasStormProtector\n",
    "* basement - basement square meters\n",
    "* attic - attic square meteres\n",
    "* garage - garage size\n",
    "* hasStorageRoom\n",
    "* hasGuestRoom - number of guest rooms\n",
    "* price - price of a house\n",
    "* category - Luxury or Basic"
   ]
  },
  {
   "cell_type": "code",
   "execution_count": 1,
   "metadata": {
    "colab": {
     "base_uri": "https://localhost:8080/"
    },
    "id": "JRlMDJuT_ZuE",
    "outputId": "038ecd8c-8eb1-4d81-ee61-10a0f1940d63"
   },
   "outputs": [
    {
     "name": "stdout",
     "output_type": "stream",
     "text": [
      "              numberOfRooms  hasYard  hasPool  floors  cityCode  \\\n",
      "squareMeters                                                      \n",
      "75523                     3        0        1      63      9373   \n",
      "80771                    39        1        1      98     39381   \n",
      "55712                    58        0        1      19     34457   \n",
      "32316                    47        0        0       6     27939   \n",
      "70429                    19        1        1      90     38045   \n",
      "\n",
      "              cityPartRange  numPrevOwners  made  isNewBuilt  \\\n",
      "squareMeters                                                   \n",
      "75523                     3              8  2005           0   \n",
      "80771                     8              6  2015           1   \n",
      "55712                     6              8  2021           0   \n",
      "32316                    10              4  2012           0   \n",
      "70429                     3              7  1990           1   \n",
      "\n",
      "              hasStormProtector  basement  attic  garage  hasStorageRoom  \\\n",
      "squareMeters                                                               \n",
      "75523                         1      4313   9005     956               0   \n",
      "80771                         0      3653   2436     128               1   \n",
      "55712                         0      2937   8852     135               1   \n",
      "32316                         1       659   7141     359               0   \n",
      "70429                         0      8435   2429     292               1   \n",
      "\n",
      "              hasGuestRoom      price category  \n",
      "squareMeters                                    \n",
      "75523                    7  7559081.5    Basic  \n",
      "80771                    2  8085989.5   Luxury  \n",
      "55712                    9  5574642.1    Basic  \n",
      "32316                    3  3232561.2    Basic  \n",
      "70429                    4  7055052.0   Luxury  \n"
     ]
    }
   ],
   "source": [
    "import numpy as np \n",
    "import pandas as pd \n",
    "url = 'https://raw.githubusercontent.com/sagihaider/CE880_2021/main/Data/ParisHousingClass.csv'\n",
    "trainData = pd.read_csv(url,index_col=0)\n",
    "print(trainData.head())"
   ]
  },
  {
   "cell_type": "code",
   "execution_count": 2,
   "metadata": {
    "colab": {
     "base_uri": "https://localhost:8080/"
    },
    "id": "KLMQd-Zc_ZuF",
    "outputId": "43f089ba-eae8-4f91-9e4e-248f7ac72e53"
   },
   "outputs": [
    {
     "name": "stdout",
     "output_type": "stream",
     "text": [
      "category ['Basic' 'Luxury']\n"
     ]
    }
   ],
   "source": [
    "from sklearn.preprocessing import LabelEncoder\n",
    "\n",
    "def label_encoded(feat):\n",
    "    le=LabelEncoder()\n",
    "    le.fit(feat)\n",
    "    print(feat.name,le.classes_)\n",
    "    return le.transform(feat)\n",
    "trainData['category']=label_encoded(trainData['category'])"
   ]
  },
  {
   "cell_type": "code",
   "execution_count": 3,
   "metadata": {
    "id": "dfZNFn-y_ZuF"
   },
   "outputs": [],
   "source": [
    "from sklearn.model_selection import train_test_split,GridSearchCV\n",
    "\n",
    "y=trainData['category']\n",
    "x=trainData.drop('category',axis=1)\n",
    "xtrain,xtest,ytrain,ytest=train_test_split(x,y,test_size=0.2,random_state=42)"
   ]
  },
  {
   "cell_type": "markdown",
   "metadata": {
    "id": "UvghM4PA_ZuF"
   },
   "source": [
    "---\n",
    "## Question 1: \n",
    "\n",
    "#### Classification\n",
    "Use the dataset, which I have spilted into training and test sets (xtrain, xtest, ytrain, ytest), please train the machine learning model to get the test accuracy of 100%. You are free to use any classication model such as Decision Tree, Random Forest, KNN, SVM..etc. \n",
    "\n",
    "Hint: Please use grid search to find a best model using different parameters. "
   ]
  },
  {
   "cell_type": "code",
   "execution_count": 6,
   "metadata": {
    "deletable": false,
    "nbgrader": {
     "cell_type": "code",
     "checksum": "7d59a986a353bb89559cb1ff0cf34516",
     "grade": false,
     "grade_id": "my_model_ans",
     "locked": false,
     "schema_version": 3,
     "solution": true,
     "task": false
    },
    "id": "dWNhEPOr_ZuF"
   },
   "outputs": [],
   "source": [
    "from sklearn.tree import DecisionTreeClassifier\n",
    "from sklearn.metrics import accuracy_score\n",
    "\n",
    "def my_model(xtrain,xtest,ytrain,ytest):\n",
    "    \"\"\"Write a function to train a machine learning model to get the test accuracy of 100%. \n",
    "    You are free to use any classication model such as Decision Tree, \n",
    "    Random Forest, KNN, SVM..etc. \"\"\"\n",
    "    model = DecisionTreeClassifier()\n",
    "    param_grid = {'max_features': ['sqrt', 'log2'],\n",
    "              'max_depth' : [5, 6, 7, 8, 9],\n",
    "              'criterion' :['gini', 'entropy']\n",
    "             }\n",
    "    model = GridSearchCV(model, param_grid, scoring='recall')\n",
    "    model.fit(xtrain, ytrain)\n",
    "    pred = model.predict(xtest)\n",
    "    return accuracy_score(ytest, pred)*100\n",
    "    raise NotImplementedError()\n",
    "\n"
   ]
  },
  {
   "cell_type": "code",
   "execution_count": 7,
   "metadata": {
    "deletable": false,
    "editable": false,
    "nbgrader": {
     "cell_type": "code",
     "checksum": "b15a8a354453f7e99cb9fa5a6cb0b977",
     "grade": true,
     "grade_id": "my_model_test",
     "locked": true,
     "points": 9,
     "schema_version": 3,
     "solution": false,
     "task": false
    },
    "id": "cuOzR7cu_ZuG"
   },
   "outputs": [],
   "source": [
    "# Check you solution by running this cell\n",
    "import math\n",
    "assert math.isclose(my_model(xtrain,xtest,ytrain,ytest), 100.0, rel_tol = 0.05)"
   ]
  }
 ],
 "metadata": {
  "kernelspec": {
   "display_name": "Python 3",
   "language": "python",
   "name": "python3"
  },
  "language_info": {
   "codemirror_mode": {
    "name": "ipython",
    "version": 3
   },
   "file_extension": ".py",
   "mimetype": "text/x-python",
   "name": "python",
   "nbconvert_exporter": "python",
   "pygments_lexer": "ipython3",
   "version": "3.7.10"
  },
  "colab": {
   "provenance": []
  }
 },
 "nbformat": 4,
 "nbformat_minor": 0
}
