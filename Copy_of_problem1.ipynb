{
  "cells": [
    {
      "cell_type": "markdown",
      "metadata": {
        "id": "5jQtshTblWNA"
      },
      "source": [
        "---\n",
        "# Welcome to CE880\n",
        "### This is your week-2 : Problem 1 notebook\n",
        "### Spring Term 2022-23\n",
        "#### Prepared by Dr Haider Raza\n",
        "\n",
        "For this problem set, we'll be using the Jupyter notebook and please upload this notebook to [Google Colab](https://colab.research.google.com/). \n"
      ]
    },
    {
      "cell_type": "markdown",
      "metadata": {
        "id": "s6xHxSL6lWNC"
      },
      "source": [
        "---\n",
        "## Question 1:\n",
        "\n",
        "Write a function to pass a list of numbers and calculate the exponential of all elements in the list format. \n",
        "`Hint`: take input as list and inside the function covert it into numpy array then perform the function. `Example` : input `[1, 4, 8]` and and output should be:  `[0.0, 2.0, 3.0]` "
      ]
    },
    {
      "cell_type": "code",
      "execution_count": null,
      "metadata": {
        "deletable": false,
        "nbgrader": {
          "cell_type": "code",
          "checksum": "45ffd950eafac613cdfef297902423c5",
          "grade": false,
          "grade_id": "myLog_ans",
          "locked": false,
          "schema_version": 3,
          "solution": true
        },
        "id": "72Xm-ux7lWND"
      },
      "outputs": [],
      "source": [
        "import numpy as np\n",
        "def myExp(mylist):\n",
        "    out_list = [np.exp(elem) for elem in mylist]\n",
        "    return out_list\n",
        "    raise NotImplementedError()"
      ]
    },
    {
      "cell_type": "code",
      "execution_count": null,
      "metadata": {
        "colab": {
          "base_uri": "https://localhost:8080/"
        },
        "id": "pO6d7QAJlWNE",
        "outputId": "d928bbed-5ed2-4239-fc1f-f2165d2bf2c2"
      },
      "outputs": [
        {
          "output_type": "execute_result",
          "data": {
            "text/plain": [
              "[2.718281828459045, 7.38905609893065, 54.598150033144236, 403.4287934927351]"
            ]
          },
          "metadata": {},
          "execution_count": 2
        }
      ],
      "source": [
        "in_array = [1, 2, 4, 6]\n",
        "myExp(in_array)"
      ]
    },
    {
      "cell_type": "code",
      "execution_count": null,
      "metadata": {
        "deletable": false,
        "editable": false,
        "nbgrader": {
          "cell_type": "code",
          "checksum": "18bab106ea5910e892e1c11ca297efec",
          "grade": true,
          "grade_id": "myLog_test",
          "locked": false,
          "points": 1,
          "schema_version": 3,
          "solution": false
        },
        "id": "xDwSXsqblWNF"
      },
      "outputs": [],
      "source": [
        "\"\"\"run these test cases\"\"\"\n",
        "# Test case 1\n",
        "my = [1, 2, 4, 6]\n",
        "assert myExp(my) == [2.718281828459045, 7.38905609893065, 54.598150033144236, 403.4287934927351]\n",
        "\n",
        "# Test case 2\n",
        "my = [1, 10, 100]\n",
        "assert myExp(my) == [2.718281828459045, 22026.465794806718, 2.6881171418161356e+43]"
      ]
    },
    {
      "cell_type": "markdown",
      "metadata": {
        "id": "yRnfC2NrlWNF"
      },
      "source": [
        "---\n",
        "\n",
        "## Question 2:\n",
        "\n",
        "Write a function to find the k number of the smallest values from a NumPy array and remove duplicate when returning as a list. \n",
        "\n",
        "\n",
        "For example: \n",
        "`nSmallest([23, 12, 1, 3, 1, 4, 0, 4, 5, 6],3) = [0, 1, 3]`"
      ]
    },
    {
      "cell_type": "code",
      "execution_count": null,
      "metadata": {
        "deletable": false,
        "nbgrader": {
          "cell_type": "code",
          "checksum": "c08ada0919f4fca732bd1bd00e5c18df",
          "grade": false,
          "grade_id": "myfibonacci_ans",
          "locked": false,
          "schema_version": 3,
          "solution": true
        },
        "id": "z0v6nR7BlWNG"
      },
      "outputs": [],
      "source": [
        "def nSmallest(array, k):\n",
        "    out = []\n",
        "    array = list(set(array))\n",
        "    for i in range(k):\n",
        "      a = np.min(array)\n",
        "      array.remove(a)\n",
        "      out.append(a)\n",
        "    return out\n",
        "    raise NotImplementedError()"
      ]
    },
    {
      "cell_type": "code",
      "execution_count": null,
      "metadata": {
        "colab": {
          "base_uri": "https://localhost:8080/"
        },
        "id": "xFwcuhhFlWNG",
        "outputId": "5c2e39e5-abd8-44af-fb44-d780a1923c71"
      },
      "outputs": [
        {
          "output_type": "execute_result",
          "data": {
            "text/plain": [
              "[2, 4]"
            ]
          },
          "metadata": {},
          "execution_count": 5
        }
      ],
      "source": [
        "nSmallest([10, 10, 2, 5, 4, 5, 6, 8, 2], 2)"
      ]
    },
    {
      "cell_type": "code",
      "execution_count": null,
      "metadata": {
        "deletable": false,
        "editable": false,
        "nbgrader": {
          "cell_type": "code",
          "checksum": "858d33b27b8fc6625ca533e39f4aa6d3",
          "grade": true,
          "grade_id": "myfibonacci_test",
          "locked": false,
          "points": 1,
          "schema_version": 3,
          "solution": false
        },
        "id": "CUVGa93klWNG"
      },
      "outputs": [],
      "source": [
        "\"\"\"run these test cases\"\"\"\n",
        "assert nSmallest([23, 12, 1, 3, 1, 4, 0, 4, 5, 6],3) == [0, 1, 3]\n",
        "assert nSmallest([100, 200, 2000, 30, 110],4) == [30, 100, 110, 200]\n",
        "assert nSmallest([10, 10, 2, 5, 4, 5, 6, 8, 2], 2) == [2, 4]\n"
      ]
    },
    {
      "cell_type": "markdown",
      "metadata": {
        "id": "rb5tyH79lWNH"
      },
      "source": [
        "---\n",
        "## Question 3: \n",
        "\n",
        " Write a program, which accept a list with `nan`s in it and count the maximum number of consecutive repeated `nan`.\n",
        " Example: In the `a = [nan, nan, 0.1, nan, 0.16, 1, 0.16, 0.9999, 0.0001, 0.16, 0.101, nan, 0.16]` and answer is 2."
      ]
    },
    {
      "cell_type": "code",
      "execution_count": null,
      "metadata": {
        "deletable": false,
        "nbgrader": {
          "cell_type": "code",
          "checksum": "e0105f978e552425f896467b2ad9740d",
          "grade": false,
          "grade_id": "max_nan_ans",
          "locked": false,
          "schema_version": 3,
          "solution": true,
          "task": false
        },
        "id": "GowyHf3VlWNH"
      },
      "outputs": [],
      "source": [
        "from numpy import nan\n",
        "from math import isnan\n",
        "def max_rep_nan(in_list):\n",
        "    counter = 0\n",
        "    max = 0\n",
        "    for elem in in_list:\n",
        "      if isnan(elem):\n",
        "        counter +=1\n",
        "        if max<counter:\n",
        "          max = counter\n",
        "      else:\n",
        "        counter = 0\n",
        "    return max \n",
        "    raise NotImplementedError()"
      ]
    },
    {
      "cell_type": "code",
      "execution_count": null,
      "metadata": {
        "colab": {
          "base_uri": "https://localhost:8080/"
        },
        "id": "79fo-14ElWNH",
        "outputId": "3091f2a8-4198-4cc6-d031-c720abfc360c"
      },
      "outputs": [
        {
          "output_type": "execute_result",
          "data": {
            "text/plain": [
              "2"
            ]
          },
          "metadata": {},
          "execution_count": 8
        }
      ],
      "source": [
        "a = np.array([nan, nan, 0.1, nan, 0.16, 1, 0.16, 0.9999, 0.0001, 0.16, 0.101, nan, 0.16])\n",
        "max_rep_nan(a)"
      ]
    },
    {
      "cell_type": "code",
      "execution_count": null,
      "metadata": {
        "deletable": false,
        "editable": false,
        "nbgrader": {
          "cell_type": "code",
          "checksum": "ce154839fcd97350c952ce0aea65171e",
          "grade": true,
          "grade_id": "max_rep_test",
          "locked": true,
          "points": 0,
          "schema_version": 3,
          "solution": false,
          "task": false
        },
        "id": "tqkR9tDDlWNH"
      },
      "outputs": [],
      "source": [
        "\"\"\"Check your answer by running this cell\"\"\"\n",
        "a = [nan, nan, nan, 0.1, nan, 0.16, 1, 0.16, 0.101, nan]\n",
        "assert max_rep_nan(a) == 3\n",
        "\n",
        "a = [nan, nan, nan, nan, nan, 0.16, 1, 0.16, 0.101, nan]\n",
        "assert max_rep_nan(a) == 5\n",
        "\n",
        "a = [nan, 10, nan, 0.1, nan, 0.16, 1, 0.16, 0.101, nan]\n",
        "assert max_rep_nan(a) == 1\n",
        "\n",
        "a = []\n",
        "assert max_rep_nan(a) == 0"
      ]
    },
    {
      "cell_type": "markdown",
      "metadata": {
        "id": "BRxeKyp4lWNI"
      },
      "source": [
        "## Pandas Data Frame \n"
      ]
    },
    {
      "cell_type": "code",
      "execution_count": null,
      "metadata": {
        "id": "tXmC3GtKlWNI"
      },
      "outputs": [],
      "source": [
        "from sklearn import datasets\n",
        "import pandas as pd"
      ]
    },
    {
      "cell_type": "code",
      "execution_count": null,
      "metadata": {
        "colab": {
          "base_uri": "https://localhost:8080/"
        },
        "id": "_xS-4pbAlWNI",
        "outputId": "d335a727-2154-4ba7-bcda-1e8a6bcaa2e5"
      },
      "outputs": [
        {
          "output_type": "stream",
          "name": "stdout",
          "text": [
            "            0         1         2         3         4         5         6  \\\n",
            "0    0.038076  0.050680  0.061696  0.021872 -0.044223 -0.034821 -0.043401   \n",
            "1   -0.001882 -0.044642 -0.051474 -0.026328 -0.008449 -0.019163  0.074412   \n",
            "2    0.085299  0.050680  0.044451 -0.005671 -0.045599 -0.034194 -0.032356   \n",
            "3   -0.089063 -0.044642 -0.011595 -0.036656  0.012191  0.024991 -0.036038   \n",
            "4    0.005383 -0.044642 -0.036385  0.021872  0.003935  0.015596  0.008142   \n",
            "..        ...       ...       ...       ...       ...       ...       ...   \n",
            "437  0.041708  0.050680  0.019662  0.059744 -0.005697 -0.002566 -0.028674   \n",
            "438 -0.005515  0.050680 -0.015906 -0.067642  0.049341  0.079165 -0.028674   \n",
            "439  0.041708  0.050680 -0.015906  0.017282 -0.037344 -0.013840 -0.024993   \n",
            "440 -0.045472 -0.044642  0.039062  0.001215  0.016318  0.015283 -0.028674   \n",
            "441 -0.045472 -0.044642 -0.073030 -0.081414  0.083740  0.027809  0.173816   \n",
            "\n",
            "            7         8         9  \n",
            "0   -0.002592  0.019908 -0.017646  \n",
            "1   -0.039493 -0.068330 -0.092204  \n",
            "2   -0.002592  0.002864 -0.025930  \n",
            "3    0.034309  0.022692 -0.009362  \n",
            "4   -0.002592 -0.031991 -0.046641  \n",
            "..        ...       ...       ...  \n",
            "437 -0.002592  0.031193  0.007207  \n",
            "438  0.034309 -0.018118  0.044485  \n",
            "439 -0.011080 -0.046879  0.015491  \n",
            "440  0.026560  0.044528 -0.025930  \n",
            "441 -0.039493 -0.004220  0.003064  \n",
            "\n",
            "[442 rows x 10 columns]\n",
            "[151.  75. 141. 206. 135.  97. 138.  63. 110. 310. 101.  69. 179. 185.\n",
            " 118. 171. 166. 144.  97. 168.  68.  49.  68. 245. 184. 202. 137.  85.\n",
            " 131. 283. 129.  59. 341.  87.  65. 102. 265. 276. 252.  90. 100.  55.\n",
            "  61.  92. 259.  53. 190. 142.  75. 142. 155. 225.  59. 104. 182. 128.\n",
            "  52.  37. 170. 170.  61. 144.  52. 128.  71. 163. 150.  97. 160. 178.\n",
            "  48. 270. 202. 111.  85.  42. 170. 200. 252. 113. 143.  51.  52. 210.\n",
            "  65. 141.  55. 134.  42. 111.  98. 164.  48.  96.  90. 162. 150. 279.\n",
            "  92.  83. 128. 102. 302. 198.  95.  53. 134. 144. 232.  81. 104.  59.\n",
            " 246. 297. 258. 229. 275. 281. 179. 200. 200. 173. 180.  84. 121. 161.\n",
            "  99. 109. 115. 268. 274. 158. 107.  83. 103. 272.  85. 280. 336. 281.\n",
            " 118. 317. 235.  60. 174. 259. 178. 128.  96. 126. 288.  88. 292.  71.\n",
            " 197. 186.  25.  84.  96. 195.  53. 217. 172. 131. 214.  59.  70. 220.\n",
            " 268. 152.  47.  74. 295. 101. 151. 127. 237. 225.  81. 151. 107.  64.\n",
            " 138. 185. 265. 101. 137. 143. 141.  79. 292. 178.  91. 116.  86. 122.\n",
            "  72. 129. 142.  90. 158.  39. 196. 222. 277.  99. 196. 202. 155.  77.\n",
            " 191.  70.  73.  49.  65. 263. 248. 296. 214. 185.  78.  93. 252. 150.\n",
            "  77. 208.  77. 108. 160.  53. 220. 154. 259.  90. 246. 124.  67.  72.\n",
            " 257. 262. 275. 177.  71.  47. 187. 125.  78.  51. 258. 215. 303. 243.\n",
            "  91. 150. 310. 153. 346.  63.  89.  50.  39. 103. 308. 116. 145.  74.\n",
            "  45. 115. 264.  87. 202. 127. 182. 241.  66.  94. 283.  64. 102. 200.\n",
            " 265.  94. 230. 181. 156. 233.  60. 219.  80.  68. 332. 248.  84. 200.\n",
            "  55.  85.  89.  31. 129.  83. 275.  65. 198. 236. 253. 124.  44. 172.\n",
            " 114. 142. 109. 180. 144. 163. 147.  97. 220. 190. 109. 191. 122. 230.\n",
            " 242. 248. 249. 192. 131. 237.  78. 135. 244. 199. 270. 164.  72.  96.\n",
            " 306.  91. 214.  95. 216. 263. 178. 113. 200. 139. 139.  88. 148.  88.\n",
            " 243.  71.  77. 109. 272.  60.  54. 221.  90. 311. 281. 182. 321.  58.\n",
            " 262. 206. 233. 242. 123. 167.  63. 197.  71. 168. 140. 217. 121. 235.\n",
            " 245.  40.  52. 104. 132.  88.  69. 219.  72. 201. 110.  51. 277.  63.\n",
            " 118.  69. 273. 258.  43. 198. 242. 232. 175.  93. 168. 275. 293. 281.\n",
            "  72. 140. 189. 181. 209. 136. 261. 113. 131. 174. 257.  55.  84.  42.\n",
            " 146. 212. 233.  91. 111. 152. 120.  67. 310.  94. 183.  66. 173.  72.\n",
            "  49.  64.  48. 178. 104. 132. 220.  57.]\n"
          ]
        }
      ],
      "source": [
        "# import some data to play with\n",
        "diabetes = datasets.load_diabetes()\n",
        "X = pd.DataFrame(diabetes.data[:, :])  # we are taking all features.\n",
        "y = diabetes.target\n",
        "print(X)\n",
        "print(y)"
      ]
    },
    {
      "cell_type": "markdown",
      "metadata": {
        "id": "krOb8neJlWNI"
      },
      "source": [
        "---\n",
        "## Question 4:\n",
        "\n",
        "Write a function to find the max number in the each column in the diabetes dataset and return the output as a list. Please make sure to round the output to two decimal points. "
      ]
    },
    {
      "cell_type": "code",
      "execution_count": null,
      "metadata": {
        "deletable": false,
        "nbgrader": {
          "cell_type": "code",
          "checksum": "761394defb38fe7012e55b761498e8f3",
          "grade": false,
          "grade_id": "filter_1_ans",
          "locked": false,
          "schema_version": 3,
          "solution": true,
          "task": false
        },
        "id": "YDqlfcOZlWNJ"
      },
      "outputs": [],
      "source": [
        "def my_max_min(X):\n",
        "    \"\"\"Write a function to find the max number in the each column and return \n",
        "    as a list.\"\"\"\n",
        "    # YOUR CODE HERE\n",
        "    return [round(elem, 2) for elem in X.max().to_list()]\n",
        "    raise NotImplementedError()"
      ]
    },
    {
      "cell_type": "code",
      "execution_count": null,
      "metadata": {
        "deletable": false,
        "editable": false,
        "nbgrader": {
          "cell_type": "code",
          "checksum": "f4749f73aa57af28262d345af797d66a",
          "grade": true,
          "grade_id": "filter_1_test",
          "locked": true,
          "points": 1,
          "schema_version": 3,
          "solution": false,
          "task": false
        },
        "id": "xmImITBRlWNJ"
      },
      "outputs": [],
      "source": [
        "\"\"\"Check your output\"\"\"\n",
        "assert my_max_min(X) == [0.11, 0.05, 0.17, 0.13, 0.15, 0.2, 0.18, 0.19, 0.13, 0.14]"
      ]
    },
    {
      "cell_type": "markdown",
      "metadata": {
        "id": "1ifynPrwlWNJ"
      },
      "source": [
        "---\n",
        "## Question 5:\n",
        "\n",
        "\n",
        "Write a function to calculate the `mean` and `standard deviation` of diabetes dataset (first column only). `Hint`: You can use NumPy aggregate functions. Create a list and append value to it and return the output. "
      ]
    },
    {
      "cell_type": "code",
      "execution_count": null,
      "metadata": {
        "deletable": false,
        "nbgrader": {
          "cell_type": "code",
          "checksum": "9795f3163ba2f778818d6e5e90f6a38e",
          "grade": false,
          "grade_id": "stats_ans",
          "locked": false,
          "schema_version": 3,
          "solution": true,
          "task": false
        },
        "id": "K6LIfZAolWNK"
      },
      "outputs": [],
      "source": [
        "def stats(X):\n",
        "    \"\"\"Write a functon to calculate mean and standard deviation of IRIS dataset (last column only).\"\"\"\n",
        "    return [np.mean(X.iloc[:,0]), np.std(X.iloc[:,0])]\n",
        "    raise NotImplementedError()"
      ]
    },
    {
      "cell_type": "code",
      "execution_count": null,
      "metadata": {
        "colab": {
          "base_uri": "https://localhost:8080/"
        },
        "id": "nk6khvOblWNK",
        "outputId": "60c2a44d-0ceb-4a64-97eb-3aa6d742ce80"
      },
      "outputs": [
        {
          "output_type": "execute_result",
          "data": {
            "text/plain": [
              "[-3.6396225400041895e-16, 0.04756514941545118]"
            ]
          },
          "metadata": {},
          "execution_count": 15
        }
      ],
      "source": [
        "stats(X)"
      ]
    },
    {
      "cell_type": "code",
      "source": [],
      "metadata": {
        "id": "z74vkZIamFqI"
      },
      "execution_count": null,
      "outputs": []
    },
    {
      "cell_type": "code",
      "execution_count": null,
      "metadata": {
        "deletable": false,
        "editable": false,
        "nbgrader": {
          "cell_type": "code",
          "checksum": "c73f48475758735c3f1fbbbd2fdbe171",
          "grade": true,
          "grade_id": "stats_test",
          "locked": true,
          "points": 2,
          "schema_version": 3,
          "solution": false,
          "task": false
        },
        "colab": {
          "base_uri": "https://localhost:8080/",
          "height": 200
        },
        "id": "Wa3h0GjjlWNK",
        "outputId": "20695697-ef03-4d5e-df3f-4caa7bc42cc6"
      },
      "outputs": [
        {
          "output_type": "error",
          "ename": "AssertionError",
          "evalue": "ignored",
          "traceback": [
            "\u001b[0;31m---------------------------------------------------------------------------\u001b[0m",
            "\u001b[0;31mAssertionError\u001b[0m                            Traceback (most recent call last)",
            "\u001b[0;32m<ipython-input-16-fcd712ddb311>\u001b[0m in \u001b[0;36m<module>\u001b[0;34m\u001b[0m\n\u001b[1;32m      1\u001b[0m \u001b[0;34m\"\"\"Check your output\"\"\"\u001b[0m\u001b[0;34m\u001b[0m\u001b[0;34m\u001b[0m\u001b[0m\n\u001b[1;32m      2\u001b[0m \u001b[0;31m# Test case\u001b[0m\u001b[0;34m\u001b[0m\u001b[0;34m\u001b[0m\u001b[0;34m\u001b[0m\u001b[0m\n\u001b[0;32m----> 3\u001b[0;31m \u001b[0;32massert\u001b[0m \u001b[0mstats\u001b[0m\u001b[0;34m(\u001b[0m\u001b[0mX\u001b[0m\u001b[0;34m)\u001b[0m \u001b[0;34m==\u001b[0m \u001b[0;34m[\u001b[0m\u001b[0;34m-\u001b[0m\u001b[0;36m3.6396225400041895e-16\u001b[0m\u001b[0;34m,\u001b[0m \u001b[0;36m0.04761904761904939\u001b[0m\u001b[0;34m]\u001b[0m\u001b[0;34m\u001b[0m\u001b[0;34m\u001b[0m\u001b[0m\n\u001b[0m",
            "\u001b[0;31mAssertionError\u001b[0m: "
          ]
        }
      ],
      "source": [
        "\"\"\"Check your output\"\"\"\n",
        "# Test case\n",
        "assert stats(X) == [-3.6396225400041895e-16, 0.04761904761904939]"
      ]
    },
    {
      "cell_type": "code",
      "source": [],
      "metadata": {
        "id": "UPvzwtGfpRrE"
      },
      "execution_count": null,
      "outputs": []
    }
  ],
  "metadata": {
    "kernelspec": {
      "display_name": "Python 3",
      "language": "python",
      "name": "python3"
    },
    "language_info": {
      "codemirror_mode": {
        "name": "ipython",
        "version": 3
      },
      "file_extension": ".py",
      "mimetype": "text/x-python",
      "name": "python",
      "nbconvert_exporter": "python",
      "pygments_lexer": "ipython3",
      "version": "3.7.10"
    },
    "colab": {
      "provenance": []
    }
  },
  "nbformat": 4,
  "nbformat_minor": 0
}